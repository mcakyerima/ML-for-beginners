{
 "cells": [
  {
   "cell_type": "markdown",
   "id": "e075e4fd-a5e7-4384-8197-cd32aabb07ae",
   "metadata": {},
   "source": [
    "## Exercise for predicting per capita income of Nigeria based on Historical Data From 1970 - 2016"
   ]
  },
  {
   "cell_type": "code",
   "execution_count": null,
   "id": "2fed0816-e1bc-4f0e-8ff9-27a7ccf48976",
   "metadata": {},
   "outputs": [],
   "source": [
    "# import libraries\n",
    "from sklearn.linear_model import LinearRegression\n",
    "import pandas as pd\n",
    "import numpy as np\n",
    "import matplotlib.pyplot as plt"
   ]
  },
  {
   "cell_type": "code",
   "execution_count": null,
   "id": "63b04908-b143-46e3-aa35-0e19af97c902",
   "metadata": {},
   "outputs": [],
   "source": [
    "# read the data\n",
    "df = pd.read_csv('nigeria_per_capita_income.csv')"
   ]
  },
  {
   "cell_type": "code",
   "execution_count": null,
   "id": "a3914e25-8429-4531-af12-10a7a0387771",
   "metadata": {},
   "outputs": [],
   "source": [
    "df.head()"
   ]
  },
  {
   "cell_type": "code",
   "execution_count": null,
   "id": "23398caa-ba95-43ad-a219-1fbb15cb09cd",
   "metadata": {},
   "outputs": [],
   "source": [
    "# plot our data and see\n",
    "%matplotlib inline\n",
    "plt.title(\"Per Capita Income of Nigeria\")\n",
    "plt.scatter(df['year'], df['per capita income (NGN)'])\n",
    "plt.xlabel('Year')\n",
    "plt.ylabel('Per Capita Income (NGN)')"
   ]
  },
  {
   "cell_type": "code",
   "execution_count": null,
   "id": "a24c8dee-8bd7-4d6f-a9db-f33ad84b9841",
   "metadata": {},
   "outputs": [],
   "source": [
    "# call our model for training\n",
    "model = LinearRegression()"
   ]
  },
  {
   "cell_type": "code",
   "execution_count": null,
   "id": "247c9c7b-8f5d-48e2-a9d1-91d9055be16f",
   "metadata": {},
   "outputs": [],
   "source": [
    "# preapare our variable for prediction\n",
    "X = df[['year']]\n",
    "y = df['per capita income (NGN)']"
   ]
  },
  {
   "cell_type": "code",
   "execution_count": null,
   "id": "c6a34a10-aba3-4842-abd7-f222acc7b93b",
   "metadata": {},
   "outputs": [],
   "source": [
    "# fit our data into the model\n",
    "model.fit(X, y)"
   ]
  },
  {
   "cell_type": "code",
   "execution_count": null,
   "id": "80e13e4b-c8a9-47ce-a203-d2708b089e42",
   "metadata": {},
   "outputs": [],
   "source": [
    "year = pd.DataFrame({'year': [2030]})"
   ]
  },
  {
   "cell_type": "code",
   "execution_count": null,
   "id": "57856cec-a69d-41ab-9be2-35ce0939f285",
   "metadata": {},
   "outputs": [],
   "source": [
    "predicted_capita = model.predict(year)"
   ]
  },
  {
   "cell_type": "code",
   "execution_count": null,
   "id": "bf3241cf-1c0e-47aa-ab0f-4430039a71f7",
   "metadata": {},
   "outputs": [],
   "source": [
    "print(predicted_capita)"
   ]
  },
  {
   "cell_type": "code",
   "execution_count": null,
   "id": "80b47c44-ce86-4ea8-84db-8da6925b1836",
   "metadata": {},
   "outputs": [],
   "source": [
    "# show the best fit line our model created\n",
    "%matplotlib inline\n",
    "plt.title(\"Per Capita Income of Nigeria\")\n",
    "plt.scatter(df['year'], df['per capita income (NGN)'], marker='*', color='red')\n",
    "plt.plot(df.year, model.predict(df[['year']]), color='blue') \n",
    "plt.xlabel('Year')\n",
    "plt.ylabel('Per Capita Income (NGN)')"
   ]
  },
  {
   "cell_type": "code",
   "execution_count": null,
   "id": "70625895-0619-4680-a1f9-829091401177",
   "metadata": {},
   "outputs": [],
   "source": [
    "# model evaluation\n",
    "from sklearn.metrics import mean_absolute_error, mean_squared_error, r2_score"
   ]
  },
  {
   "cell_type": "code",
   "execution_count": null,
   "id": "ffd5615f-39fc-4261-85d3-e88d85e9b328",
   "metadata": {},
   "outputs": [],
   "source": [
    "# make predictions\n",
    "predictions = model.predict(df[['year']])"
   ]
  },
  {
   "cell_type": "markdown",
   "id": "3b341d70-4e45-49bc-9afa-25820527c532",
   "metadata": {},
   "source": [
    "## MODEL EVALUATION\n",
    "there are several methods to evaluate how well your linear regression model is performing. While visual inspection of the best-fit line can provide some insights, it's essential to use quantitative metrics to assess its performance more rigorously. Here are some common evaluation methods for linear regression models:\n",
    "\n",
    "1. **Mean Absolute Error (MAE)**:\n",
    "   - MAE measures the average absolute difference between the predicted values and the actual values. Lower MAE indicates better performance.\n",
    "\n",
    "2. **Mean Squared Error (MSE)**:\n",
    "   - MSE calculates the average of the squared differences between predicted and actual values. It punishes large errors more heavily than MAE.\n",
    "\n",
    "3. **Root Mean Squared Error (RMSE)**:\n",
    "   - RMSE is the square root of MSE and provides a measure of the model's prediction error in the same units as the target variable. Lower RMSE is better.\n",
    "\n",
    "4. **R-squared (R²) Score**:\n",
    "   - R² measures the proportion of the variance in the dependent variable that is predictable from the independent variables. It ranges from 0 to 1, with higher values indicating a better fit. An R² of 1 means a perfect fit.\n",
    "\n",
    "5. **Adjusted R-squared (Adjusted R²)**:\n",
    "   - Adjusted R² adjusts the R² score based on the number of predictors in the model. It penalizes the inclusion of irrelevant variables.\n",
    "\n",
    "6. **Residual Plots**:\n",
    "   - Visual inspection of residual plots can reveal patterns or heteroscedasticity in the residuals. A well-fitted model should have residuals that appear random and evenly distributed around zero.\n",
    "\n",
    "7. **Cross-Validation**:\n",
    "   - Cross-validation techniques like k-fold cross-validation can assess how well your model generalizes to unseen data. It helps detect overfitting.\n",
    "\n",
    "You can use scikit-learn to calculate these metrics easily. For example, to calculate MAE, MSE, RMSE, and R² in scikit-learn, you can do the following:\n",
    "\n",
    "```python\n",
    "from sklearn.metrics import mean_absolute_error, mean_squared_error, r2_score\n",
    "\n",
    "# Make predictions using your model\n",
    "predictions = model.predict(df[['year']])\n",
    "\n",
    "# Calculate metrics\n",
    "mae = mean_absolute_error(df['per capita income (NGN)'], predictions)\n",
    "mse = mean_squared_error(df['per capita income (NGN)'], predictions)\n",
    "rmse = np.sqrt(mse)\n",
    "r2 = r2_score(df['per capita income (NGN)'], predictions)\n",
    "\n",
    "print(f\"MAE: {mae}\")\n",
    "print(f\"MSE: {mse}\")\n",
    "print(f\"RMSE: {rmse}\")\n",
    "print(f\"R²: {r2}\")\n",
    "```\n",
    "\n",
    "By examining these metrics, you can get a more quantitative understanding of how well your model is performing and whether it meets your desired level of accuracy."
   ]
  },
  {
   "cell_type": "code",
   "execution_count": null,
   "id": "b1f6654b-ccc4-48ed-a6ba-90f14ab8434e",
   "metadata": {},
   "outputs": [],
   "source": [
    "# Calculate metrics\n",
    "mae = mean_absolute_error(df['per capita income (NGN)'], predictions)\n",
    "mse = mean_squared_error(df['per capita income (NGN)'], predictions)\n",
    "rmse = np.sqrt(mse)\n",
    "r2 = r2_score(df['per capita income (NGN)'], predictions)"
   ]
  },
  {
   "cell_type": "code",
   "execution_count": null,
   "id": "e0be4760-29ab-4735-87ca-2f534d550e8c",
   "metadata": {},
   "outputs": [],
   "source": [
    "print(f\"MAE:{mae}\")\n",
    "print(f\"MSE: {mse}\")\n",
    "print(f\"RMSE: {rmse}\")\n",
    "print(f\"R2: {r2}\")"
   ]
  },
  {
   "cell_type": "code",
   "execution_count": null,
   "id": "67dc8eea-1c6a-47af-954f-b66526fa8cda",
   "metadata": {},
   "outputs": [],
   "source": []
  }
 ],
 "metadata": {
  "kernelspec": {
   "display_name": "Python 3 (ipykernel)",
   "language": "python",
   "name": "python3"
  },
  "language_info": {
   "codemirror_mode": {
    "name": "ipython",
    "version": 3
   },
   "file_extension": ".py",
   "mimetype": "text/x-python",
   "name": "python",
   "nbconvert_exporter": "python",
   "pygments_lexer": "ipython3",
   "version": "3.11.4"
  }
 },
 "nbformat": 4,
 "nbformat_minor": 5
}
