{
  "nbformat": 4,
  "nbformat_minor": 0,
  "metadata": {
    "colab": {
      "provenance": [],
      "gpuType": "T4",
      "authorship_tag": "ABX9TyOXzIHTXDcSCKr9SlzbpmpM",
      "include_colab_link": true
    },
    "kernelspec": {
      "name": "python3",
      "display_name": "Python 3"
    },
    "language_info": {
      "name": "python"
    },
    "accelerator": "GPU"
  },
  "cells": [
    {
      "cell_type": "markdown",
      "metadata": {
        "id": "view-in-github",
        "colab_type": "text"
      },
      "source": [
        "<a href=\"https://colab.research.google.com/github/mcakyerima/ML-for-beginners/blob/main/MNIST_Digits_Classification.ipynb\" target=\"_parent\"><img src=\"https://colab.research.google.com/assets/colab-badge.svg\" alt=\"Open In Colab\"/></a>"
      ]
    },
    {
      "cell_type": "markdown",
      "source": [
        "## Library Imports"
      ],
      "metadata": {
        "id": "ZzMRcxGt_pLo"
      }
    },
    {
      "cell_type": "code",
      "execution_count": 108,
      "metadata": {
        "id": "meRcbdVq_I2G"
      },
      "outputs": [],
      "source": [
        "# NumPy is used for numerical operations and handling arrays.\n",
        "import numpy as np\n",
        "\n",
        "# Matplotlib is used for plotting graphs and visualizations.\n",
        "import matplotlib.pyplot as plt\n",
        "\n",
        "# Pandas is used for data manipulation and analysis, particularly with dataframes.\n",
        "import pandas as pd\n",
        "\n",
        "# Seaborn is used for making statistical graphics and enhancing Matplotlib's visualizations.\n",
        "import seaborn as sns\n",
        "\n",
        "# Keras is a high-level neural networks API, written in Python.\n",
        "import keras\n",
        "# Sequential model is a linear stack of layers.\n",
        "from keras.models import Sequential\n",
        "# Dense is a fully connected layer used in building neural networks.\n",
        "from keras.layers import Dense\n",
        "# Dropout is a regularization technique to prevent overfitting in the model.\n",
        "from keras.layers import Dropout\n",
        "from keras import Input\n",
        "\n",
        "# Scikit-learn provides simple and efficient tools for predictive data analysis.\n",
        "# Confusion matrix is used to evaluate the accuracy of a classification.\n",
        "from sklearn.metrics import confusion_matrix\n",
        "\n",
        "# This magic command is used to ensure that plots are displayed inline within the Jupyter Notebook.\n",
        "%matplotlib inline\n",
        "\n",
        "# maintain a constant result every time we run our code\n",
        "np.random.seed(123)"
      ]
    },
    {
      "cell_type": "markdown",
      "source": [
        "## Data"
      ],
      "metadata": {
        "id": "WqlK3Slx_k-M"
      }
    },
    {
      "cell_type": "code",
      "source": [
        "from keras.datasets import mnist\n",
        "\n",
        "(X_train, y_train), (X_test, y_test) = mnist.load_data()"
      ],
      "metadata": {
        "id": "ob9xkp6zDKPN"
      },
      "execution_count": 109,
      "outputs": []
    },
    {
      "cell_type": "code",
      "source": [],
      "metadata": {
        "id": "prFZ8FtCJy4G"
      },
      "execution_count": 109,
      "outputs": []
    },
    {
      "cell_type": "code",
      "source": [
        "# printing the dimensions and shapes of the dataset and adding string identifiers to the print\n",
        "print(f\"X_train shape: {X_train.shape}\")\n",
        "print(f\"y_train shape: {y_train.shape}\")\n",
        "print(f\"X_test shape: {X_test.shape}\")\n",
        "print(f\"y_test shape: {y_test.shape}\")\n"
      ],
      "metadata": {
        "colab": {
          "base_uri": "https://localhost:8080/"
        },
        "id": "jygwITLwDUTQ",
        "outputId": "213deffc-2a28-4858-9321-74ed041bc4a2"
      },
      "execution_count": 110,
      "outputs": [
        {
          "output_type": "stream",
          "name": "stdout",
          "text": [
            "X_train shape: (60000, 28, 28)\n",
            "y_train shape: (60000,)\n",
            "X_test shape: (10000, 28, 28)\n",
            "y_test shape: (10000,)\n"
          ]
        }
      ]
    },
    {
      "cell_type": "code",
      "source": [
        "## visualize some examples\n",
        "num_classes = 10\n",
        "fig, axes = plt.subplots(1, num_classes, figsize=(20, 10))\n",
        "for i in range(0, num_classes):\n",
        "  sample = X_train[y_train == i][0]\n",
        "  axes[i].imshow(sample, cmap='gray')\n",
        "  axes[i].set_title(f\"Label: {i}\", fontsize=16)\n",
        "  axes[i].axis('off')"
      ],
      "metadata": {
        "colab": {
          "base_uri": "https://localhost:8080/",
          "height": 175
        },
        "id": "ChX_v7vvDpx-",
        "outputId": "4016e964-00c1-4853-f585-7dbcdfa49715"
      },
      "execution_count": 111,
      "outputs": [
        {
          "output_type": "display_data",
          "data": {
            "text/plain": [
              "<Figure size 2000x1000 with 10 Axes>"
            ],
            "image/png": "[encoded data removed]"
          },
          "metadata": {}
        }
      ]
    },
    {
      "cell_type": "code",
      "source": [
        "# samples = X_train[y_train == 3]\n",
        "# # DISPLAY THE SAMPLES\n",
        "# fig, axes = plt.subplots(1, 10, figsize=(20, 10))\n",
        "# for i in range(0, 10):\n",
        "#   axes[i].imshow(samples[i], cmap='gray')\n",
        "#   axes[i].axis('off')"
      ],
      "metadata": {
        "id": "-lMYRWrlS1qU"
      },
      "execution_count": 112,
      "outputs": []
    },
    {
      "cell_type": "code",
      "source": [
        "# look our our labels for classification\n",
        "for i in range(10):\n",
        "  print(y_train[i])"
      ],
      "metadata": {
        "colab": {
          "base_uri": "https://localhost:8080/"
        },
        "id": "RWcoljH4TDbI",
        "outputId": "588a8169-b4b2-4f59-8775-4298c7d2b385"
      },
      "execution_count": 113,
      "outputs": [
        {
          "output_type": "stream",
          "name": "stdout",
          "text": [
            "5\n",
            "0\n",
            "4\n",
            "1\n",
            "9\n",
            "2\n",
            "1\n",
            "3\n",
            "1\n",
            "4\n"
          ]
        }
      ]
    },
    {
      "cell_type": "markdown",
      "source": [
        "## One Hot Encoding:\n",
        "\n",
        "In this section, we will discuss the concept of one-hot encoding and why it is important for classification tasks in machine learning. When dealing with classification problems, numerical labels are not suitable for training machine learning models, as they might incorrectly imply an ordinal relationship between the classes. Instead, we use one-hot encoding to convert these labels into a binary format that the model can better interpret. Each class label is converted into a vector where only the index corresponding to the class is set to 1, and all other indices are set to 0. This transformation helps in better classification by the model.\n",
        "\n",
        "### Code Cell:\n",
        "\n",
        "```python\n",
        "# Import the necessary function to perform one-hot encoding.\n",
        "from keras.utils import to_categorical\n",
        "\n",
        "# Define the number of classes.\n",
        "num_classes = 10\n",
        "\n",
        "# One-hot encode the training labels.\n",
        "y_train = to_categorical(y_train, num_classes)\n",
        "# One-hot encode the test labels.\n",
        "y_test = to_categorical(y_test, num_classes)\n",
        "\n",
        "# Display the first 10 one-hot encoded labels from the training set.\n",
        "for i in range(10):\n",
        "    print(f\"Label {i}: {y_train[i]}\")\n",
        "```\n",
        "\n",
        "### Explanation:\n",
        "\n",
        "1. **Importing the to_categorical function**:\n",
        "    - `from keras.utils import to_categorical`: This function is used to convert class vectors (integers) to binary class matrices.\n",
        "\n",
        "2. **Defining the number of classes**:\n",
        "    - `num_classes = 10`: The MNIST dataset has 10 classes, representing the digits 0 through 9.\n",
        "\n",
        "3. **One-hot encoding the training labels**:\n",
        "    - `y_train = to_categorical(y_train, num_classes)`: This line converts the training labels into a one-hot encoded format.\n",
        "\n",
        "4. **One-hot encoding the test labels**:\n",
        "    - `y_test = to_categorical(y_test, num_classes)`: This line converts the test labels into a one-hot encoded format.\n",
        "\n",
        "5. **Displaying the one-hot encoded labels**:\n",
        "    - `for i in range(10): print(f\"Label {i}: {y_train[i]}\")`: This loop prints the first 10 one-hot encoded labels from the training set. Each label is now represented as a vector of length 10, where only one element is 1, and the rest are 0."
      ],
      "metadata": {
        "id": "OXsg02lQXWQd"
      }
    },
    {
      "cell_type": "code",
      "source": [
        "# Import the necessary function to perform one-hot encoding.\n",
        "from keras.utils import to_categorical\n",
        "\n",
        "# One-hot encode the training labels.\n",
        "y_train = to_categorical(y_train, 10)\n",
        "# One-hot encode the test labels.\n",
        "y_test = to_categorical(y_test, 10)\n",
        "\n"
      ],
      "metadata": {
        "id": "kduDbRsQXLwE"
      },
      "execution_count": 114,
      "outputs": []
    },
    {
      "cell_type": "code",
      "source": [
        "for i in range(10):\n",
        "  print(y_train[i])"
      ],
      "metadata": {
        "colab": {
          "base_uri": "https://localhost:8080/"
        },
        "id": "86T5EmzUX2us",
        "outputId": "70d5f2b6-8525-4ebd-9877-c1266cb353ff"
      },
      "execution_count": 115,
      "outputs": [
        {
          "output_type": "stream",
          "name": "stdout",
          "text": [
            "[0. 0. 0. 0. 0. 1. 0. 0. 0. 0.]\n",
            "[1. 0. 0. 0. 0. 0. 0. 0. 0. 0.]\n",
            "[0. 0. 0. 0. 1. 0. 0. 0. 0. 0.]\n",
            "[0. 1. 0. 0. 0. 0. 0. 0. 0. 0.]\n",
            "[0. 0. 0. 0. 0. 0. 0. 0. 0. 1.]\n",
            "[0. 0. 1. 0. 0. 0. 0. 0. 0. 0.]\n",
            "[0. 1. 0. 0. 0. 0. 0. 0. 0. 0.]\n",
            "[0. 0. 0. 1. 0. 0. 0. 0. 0. 0.]\n",
            "[0. 1. 0. 0. 0. 0. 0. 0. 0. 0.]\n",
            "[0. 0. 0. 0. 1. 0. 0. 0. 0. 0.]\n"
          ]
        }
      ]
    },
    {
      "cell_type": "markdown",
      "source": [
        "# Reshape our data\n",
        "### Explanation:\n",
        "\n",
        "In this section, we will normalize and reshape our data to prepare it for training a neural network. Normalization is a crucial preprocessing step that helps in speeding up the training process and improving the model's performance. By scaling the pixel values to be between 0 and 1, we ensure that our neural network can process the data more effectively. Additionally, reshaping the data from 2D to 1D arrays is necessary for feeding it into certain types of neural network layers that expect flat input vectors.\n",
        "\n",
        "\n",
        "```python\n",
        "# Let's normalize the data to make our training easy.\n",
        "# The pixel values range from 0 to 255, so we divide by 255 to scale them between 0 and 1.\n",
        "X_train = X_train / 255\n",
        "X_test = X_test / 255\n",
        "\n",
        "# Print the number of training samples.\n",
        "print(f\"Number of training samples: {X_train.shape[0]}\")\n",
        "\n",
        "# Reshape the data from 2D arrays (28x28) to 1D arrays (784 elements) for each sample.\n",
        "X_train = X_train.reshape(60000, -1)\n",
        "X_test = X_test.reshape(10000, -1)\n",
        "\n",
        "# Print the new shape of the training data to confirm the reshaping.\n",
        "print(f\"New shape of X_train: {X_train.shape}\")\n",
        "print(f\"New shape of X_test: {X_test.shape}\")\n",
        "```\n",
        "\n",
        "### Explanation:\n",
        "\n",
        "1. **Normalization**:\n",
        "    - `X_train = X_train / 255`: This line scales the training data by dividing each pixel value by 255, converting the range from [0, 255] to [0, 1].\n",
        "    - `X_test = X_test / 255`: Similarly, this line scales the test data.\n",
        "\n",
        "2. **Print the number of training samples**:\n",
        "    - `print(f\"Number of training samples: {X_train.shape[0]}\")`: This prints the number of samples in the training set, which should be 60,000 for the MNIST dataset.\n",
        "\n",
        "3. **Reshaping the data**:\n",
        "    - `X_train = X_train.reshape(60000, -1)`: This reshapes the training data from 28x28 pixel images to 1D arrays of 784 elements (28 * 28 = 784).\n",
        "    - `X_test = X_test.reshape(10000, -1)`: Similarly, this reshapes the test data.\n",
        "\n",
        "4. **Print the new shapes**:\n",
        "    - `print(f\"New shape of X_train: {X_train.shape}\")`: This prints the new shape of the training data to confirm that it has been reshaped to (60000, 784).\n",
        "    - `print(f\"New shape of X_test: {X_test.shape}\")`: This prints the new shape of the test data to confirm that it has been reshaped to (10000, 784)."
      ],
      "metadata": {
        "id": "8Wlay9GFhVZa"
      }
    },
    {
      "cell_type": "code",
      "source": [
        "# lets normalize the data to make our training easy\n",
        "X_train = X_train / 255\n",
        "X_test = X_test / 255\n",
        "\n",
        "print(X_train.shape[0])"
      ],
      "metadata": {
        "colab": {
          "base_uri": "https://localhost:8080/"
        },
        "id": "reejbLeoX6bY",
        "outputId": "fdca46c9-f19d-4558-cfc0-82f58fc712ef"
      },
      "execution_count": 116,
      "outputs": [
        {
          "output_type": "stream",
          "name": "stdout",
          "text": [
            "60000\n"
          ]
        }
      ]
    },
    {
      "cell_type": "code",
      "source": [
        "# Reshaping our data\n",
        "X_train = X_train.reshape(60000, -1)\n",
        "X_test = X_test.reshape(10000, -1)\n",
        "\n",
        "print(X_train.shape)\n",
        "print(X_test.shape)"
      ],
      "metadata": {
        "colab": {
          "base_uri": "https://localhost:8080/"
        },
        "id": "m73JVNSThag3",
        "outputId": "8489b4c3-b219-4243-b19e-7ae89d669035"
      },
      "execution_count": 117,
      "outputs": [
        {
          "output_type": "stream",
          "name": "stdout",
          "text": [
            "(60000, 784)\n",
            "(10000, 784)\n"
          ]
        }
      ]
    },
    {
      "cell_type": "markdown",
      "source": [
        "## Creating a Nerual Network:\n",
        "\n",
        "In this section, we will create a fully connected neural network using Keras. A fully connected neural network, also known as a dense neural network, consists of layers where each neuron is connected to every neuron in the next layer. We will define a sequential model, add layers to it, compile the model, and then summarize its architecture.\n",
        "\n",
        "### Code Cell:\n",
        "\n",
        "```python\n",
        "# Import necessary libraries from Keras.\n",
        "from keras.models import Sequential\n",
        "from keras.layers import Dense, Dropout\n",
        "\n",
        "# Initialize a sequential model, which is a linear stack of layers.\n",
        "model = Sequential()\n",
        "\n",
        "# Add the first dense layer with 128 neurons, ReLU activation, and input shape of 784 (flattened 28x28 image).\n",
        "model.add(Dense(128, input_shape=(784,), activation='relu'))\n",
        "\n",
        "# Add a second dense layer with 128 neurons and ReLU activation.\n",
        "model.add(Dense(128, activation='relu'))\n",
        "\n",
        "# Add a dropout layer with a 25% dropout rate to prevent overfitting.\n",
        "model.add(Dropout(0.25))\n",
        "\n",
        "# Add an output dense layer with 10 neurons (one for each class) and softmax activation.\n",
        "model.add(Dense(10, activation='softmax'))\n",
        "\n",
        "# Compile the model with categorical cross-entropy loss, Adam optimizer, and accuracy metric.\n",
        "model.compile(loss='categorical_crossentropy', optimizer='adam', metrics=['accuracy'])\n",
        "\n",
        "# Print a summary of the model architecture.\n",
        "model.summary()\n",
        "```\n",
        "\n",
        "### Explanation:\n",
        "\n",
        "1. **Import necessary libraries**:\n",
        "    - `from keras.models import Sequential`: Sequential is used to initialize a linear stack of layers.\n",
        "    - `from keras.layers import Dense, Dropout`: Dense is a fully connected layer, and Dropout is a regularization technique to prevent overfitting.\n",
        "\n",
        "2. **Initialize a sequential model**:\n",
        "    - `model = Sequential()`: This initializes a new sequential model.\n",
        "\n",
        "3. **Add the first dense layer**:\n",
        "    - `model.add(Dense(128, input_shape=(784,), activation='relu'))`: This adds a dense layer with 128 neurons, ReLU activation function, and an input shape of 784 (since each image is flattened to 784 pixels).\n",
        "\n",
        "4. **Add a second dense layer**:\n",
        "    - `model.add(Dense(128, activation='relu'))`: This adds another dense layer with 128 neurons and ReLU activation function.\n",
        "\n",
        "5. **Add a dropout layer**:\n",
        "    - `model.add(Dropout(0.25))`: This adds a dropout layer with a dropout rate of 25%, which helps prevent overfitting by randomly setting 25% of the input units to 0 at each update during training.\n",
        "\n",
        "6. **Add an output dense layer**:\n",
        "    - `model.add(Dense(10, activation='softmax'))`: This adds the output layer with 10 neurons (one for each class) and softmax activation function, which converts the outputs to probability distributions.\n",
        "\n",
        "7. **Compile the model**:\n",
        "    - `model.compile(loss='categorical_crossentropy', optimizer='adam', metrics=['accuracy'])`: This compiles the model with categorical cross-entropy loss function, Adam optimizer, and accuracy metric.\n",
        "\n",
        "8. **Print the model summary**:\n",
        "    - `model.summary()`: This prints a summary of the model architecture, including the layers, their shapes, and the number of parameters.\n"
      ],
      "metadata": {
        "id": "XNbCrBEv5ffy"
      }
    },
    {
      "cell_type": "code",
      "source": [
        "model = Sequential()\n",
        "model.add(Dense(128, input_shape=(784,), activation='relu'))\n",
        "model.add(Dense(128, activation='relu'))\n",
        "model.add(Dropout(0.25))\n",
        "model.add(Dense(10, activation='softmax'))\n",
        "model.compile(loss='categorical_crossentropy', optimizer='adam', metrics=['accuracy'])\n",
        "\n",
        "model.summary()"
      ],
      "metadata": {
        "colab": {
          "base_uri": "https://localhost:8080/"
        },
        "id": "mitH4UNih1fh",
        "outputId": "ef0fdc89-35cf-4038-f4bc-982b1e73f23f"
      },
      "execution_count": 118,
      "outputs": [
        {
          "output_type": "stream",
          "name": "stdout",
          "text": [
            "Model: \"sequential_2\"\n",
            "_________________________________________________________________\n",
            " Layer (type)                Output Shape              Param #   \n",
            "=================================================================\n",
            " dense_6 (Dense)             (None, 128)               100480    \n",
            "                                                                 \n",
            " dense_7 (Dense)             (None, 128)               16512     \n",
            "                                                                 \n",
            " dropout_2 (Dropout)         (None, 128)               0         \n",
            "                                                                 \n",
            " dense_8 (Dense)             (None, 10)                1290      \n",
            "                                                                 \n",
            "=================================================================\n",
            "Total params: 118282 (462.04 KB)\n",
            "Trainable params: 118282 (462.04 KB)\n",
            "Non-trainable params: 0 (0.00 Byte)\n",
            "_________________________________________________________________\n"
          ]
        }
      ]
    },
    {
      "cell_type": "markdown",
      "source": [
        "### Training the Model:\n",
        "\n",
        "In this section, we will train the neural network model that we created in the previous step. Training the model involves feeding the training data into the model, allowing it to learn the patterns in the data, and adjusting its parameters (weights) to minimize the loss function. We will specify the batch size and the number of epochs for the training process. The batch size determines how many samples the model processes before updating its parameters, and the number of epochs is how many times the entire dataset is passed through the model.\n",
        "\n",
        "### Code Cell:\n",
        "\n",
        "```python\n",
        "# Define the batch size and number of epochs for training.\n",
        "batch_size = 512\n",
        "epochs = 10\n",
        "\n",
        "# Train the model using the training data.\n",
        "# - X_train: The training images.\n",
        "# - y_train: The one-hot encoded training labels.\n",
        "# - batch_size: The number of samples per gradient update.\n",
        "# - epochs: The number of times to iterate over the training data.\n",
        "model.fit(X_train, y_train, batch_size=batch_size, epochs=epochs)\n",
        "```\n",
        "\n",
        "### Explanation:\n",
        "\n",
        "1. **Define the batch size and number of epochs**:\n",
        "    - `batch_size = 512`: This sets the batch size to 512, meaning the model will process 512 samples at a time before updating its parameters.\n",
        "    - `epochs = 10`: This sets the number of epochs to 10, meaning the model will iterate over the entire training dataset 10 times.\n",
        "\n",
        "2. **Train the model**:\n",
        "    - `model.fit(X_train, y_train, batch_size=batch_size, epochs=epochs)`: This method trains the model using the training data.\n",
        "      - `X_train`: The training images that have been normalized and reshaped.\n",
        "      - `y_train`: The one-hot encoded training labels.\n",
        "      - `batch_size`: The number of samples per gradient update.\n",
        "      - `epochs`: The number of times to iterate over the training data.\n",
        "\n",
        "During training, the model adjusts its parameters (weights) to minimize the loss function, learning to make better predictions on the training data. The training process will output the progress for each epoch, showing the loss and accuracy for the training data."
      ],
      "metadata": {
        "id": "_nll7HeKFZdk"
      }
    },
    {
      "cell_type": "code",
      "source": [
        "# Training the model\n",
        "batch_size = 512\n",
        "epochs = 10\n",
        "model.fit(X_train, y_train, batch_size=batch_size, epochs=epochs)"
      ],
      "metadata": {
        "colab": {
          "base_uri": "https://localhost:8080/"
        },
        "id": "h5Wx6jiF_sa8",
        "outputId": "3b83aaae-ea09-4174-f8f2-9d2275ffc27f"
      },
      "execution_count": 119,
      "outputs": [
        {
          "output_type": "stream",
          "name": "stdout",
          "text": [
            "Epoch 1/10\n",
            "118/118 [==============================] - 2s 10ms/step - loss: 0.6054 - accuracy: 0.8244\n",
            "Epoch 2/10\n",
            "118/118 [==============================] - 1s 9ms/step - loss: 0.2225 - accuracy: 0.9352\n",
            "Epoch 3/10\n",
            "118/118 [==============================] - 1s 9ms/step - loss: 0.1630 - accuracy: 0.9528\n",
            "Epoch 4/10\n",
            "118/118 [==============================] - 1s 9ms/step - loss: 0.1299 - accuracy: 0.9625\n",
            "Epoch 5/10\n",
            "118/118 [==============================] - 1s 9ms/step - loss: 0.1066 - accuracy: 0.9691\n",
            "Epoch 6/10\n",
            "118/118 [==============================] - 1s 9ms/step - loss: 0.0924 - accuracy: 0.9725\n",
            "Epoch 7/10\n",
            "118/118 [==============================] - 1s 9ms/step - loss: 0.0801 - accuracy: 0.9757\n",
            "Epoch 8/10\n",
            "118/118 [==============================] - 1s 9ms/step - loss: 0.0690 - accuracy: 0.9797\n",
            "Epoch 9/10\n",
            "118/118 [==============================] - 1s 9ms/step - loss: 0.0638 - accuracy: 0.9810\n",
            "Epoch 10/10\n",
            "118/118 [==============================] - 1s 10ms/step - loss: 0.0542 - accuracy: 0.9828\n"
          ]
        },
        {
          "output_type": "execute_result",
          "data": {
            "text/plain": [
              "<keras.src.callbacks.History at 0x79823b19f070>"
            ]
          },
          "metadata": {},
          "execution_count": 119
        }
      ]
    },
    {
      "cell_type": "markdown",
      "source": [
        "# Evaluating the model\n",
        "\n",
        "In this section, we will evaluate the trained neural network model on the test data. Evaluating the model involves measuring its performance on a separate set of data that was not used during training. This helps us understand how well the model generalizes to new, unseen data. We will calculate the loss and accuracy on the test dataset and print these values.\n",
        "\n",
        "### Code Cell:\n",
        "\n",
        "```python\n",
        "# Evaluate the model using the test data.\n",
        "# - X_test: The test images.\n",
        "# - y_test: The one-hot encoded test labels.\n",
        "test_loss, test_acc = model.evaluate(X_test, y_test)\n",
        "\n",
        "# Print the test accuracy and test loss.\n",
        "print(f\"Test accuracy: {test_acc}\")\n",
        "print(f\"Test loss: {test_loss}\")\n",
        "```\n",
        "\n",
        "### Explanation:\n",
        "\n",
        "1. **Evaluate the model**:\n",
        "    - `test_loss, test_acc = model.evaluate(X_test, y_test)`: This method evaluates the model on the test data.\n",
        "      - `X_test`: The test images that have been normalized and reshaped.\n",
        "      - `y_test`: The one-hot encoded test labels.\n",
        "      - The method returns two values: the loss on the test data (`test_loss`) and the accuracy on the test data (`test_acc`).\n",
        "\n",
        "2. **Print the test accuracy and test loss**:\n",
        "    - `print(f\"Test accuracy: {test_acc}\")`: This prints the accuracy of the model on the test data, which indicates the proportion of correctly classified images.\n",
        "    - `print(f\"Test loss: {test_loss}\")`: This prints the loss of the model on the test data, which measures how well the model's predictions match the actual labels.\n",
        "\n",
        "By evaluating the model on the test data, we can get an idea of how well it performs on new, unseen data, which is crucial for assessing its generalization capability."
      ],
      "metadata": {
        "id": "3oknyeOR7yjc"
      }
    },
    {
      "cell_type": "code",
      "source": [
        "# loss and accuracy\n",
        "test_loss, test_acc = model.evaluate(X_test, y_test)\n",
        "print(f\"Test accuracy: {test_acc}\")\n",
        "print(f\"Test loss: {test_loss}\")\n"
      ],
      "metadata": {
        "colab": {
          "base_uri": "https://localhost:8080/"
        },
        "id": "-zONKdDoAb_2",
        "outputId": "8b5552ae-31ac-4af1-b7e3-31e0d7da280c"
      },
      "execution_count": 120,
      "outputs": [
        {
          "output_type": "stream",
          "name": "stdout",
          "text": [
            "313/313 [==============================] - 1s 2ms/step - loss: 0.0709 - accuracy: 0.9772\n",
            "Test accuracy: 0.9771999716758728\n",
            "Test loss: 0.0709373950958252\n"
          ]
        }
      ]
    },
    {
      "cell_type": "markdown",
      "source": [
        "# Making predictions\n",
        "In this section, we will use the trained neural network model to make predictions on the test data. After making the predictions, we will extract the predicted class labels by finding the index of the class with the highest probability for each test sample. This step helps us understand what the model predicts for each test image.\n",
        "\n",
        "### Code Cell:\n",
        "\n",
        "```python\n",
        "# Make predictions on the test data.\n",
        "# - X_test: The test images.\n",
        "y_pred = model.predict(X_test)\n",
        "\n",
        "# Get the index of the class with the highest probability for each prediction.\n",
        "# - np.argmax: This function returns the indices of the maximum values along an axis.\n",
        "# - axis=1: We want the indices of the maximum values along the second axis (each row).\n",
        "y_pred_classes = np.argmax(y_pred, axis=1)\n",
        "\n",
        "# Print the predicted probabilities for the test data.\n",
        "print(\"Predicted probabilities:\")\n",
        "print(y_pred)\n",
        "\n",
        "# Print the predicted class labels for the test data.\n",
        "print(\"Predicted class labels:\")\n",
        "print(y_pred_classes)\n",
        "```\n",
        "\n",
        "### Explanation:\n",
        "\n",
        "1. **Make predictions on the test data**:\n",
        "    - `y_pred = model.predict(X_test)`: This method uses the trained model to make predictions on the test data.\n",
        "      - `X_test`: The test images that have been normalized and reshaped.\n",
        "      - The method returns an array of predicted probabilities for each class.\n",
        "\n",
        "2. **Get the predicted class labels**:\n",
        "    - `y_pred_classes = np.argmax(y_pred, axis=1)`: This function returns the indices of the maximum values along the specified axis.\n",
        "      - `np.argmax`: Finds the index of the maximum value.\n",
        "      - `axis=1`: Specifies that we want the indices of the maximum values along the second axis (each row), effectively giving us the predicted class for each test sample.\n",
        "\n",
        "3. **Print the predicted probabilities**:\n",
        "    - `print(\"Predicted probabilities:\")`: This prints a header indicating that the following output is the predicted probabilities.\n",
        "    - `print(y_pred)`: This prints the array of predicted probabilities for each test sample.\n",
        "\n",
        "4. **Print the predicted class labels**:\n",
        "    - `print(\"Predicted class labels:\")`: This prints a header indicating that the following output is the predicted class labels.\n",
        "    - `print(y_pred_classes)`: This prints the array of predicted class labels for each test sample, showing which class the model thinks each test image belongs to.\n",
        "\n",
        "By making predictions and extracting the class labels, we can see how the model performs on individual test samples and understand its predictions in more detail."
      ],
      "metadata": {
        "id": "F1KeQgfxLYvW"
      }
    },
    {
      "cell_type": "code",
      "source": [
        "# prediction with test data\n",
        "y_pred = model.predict(X_test)\n",
        "# Getting the index of the classes with the highest probability.\n",
        "y_pred_classes = np.argmax(y_pred, axis=1)\n",
        "\n",
        "print(y_pred)\n",
        "print(y_pred_classes)\n"
      ],
      "metadata": {
        "colab": {
          "base_uri": "https://localhost:8080/"
        },
        "id": "bZ03aInpAq92",
        "outputId": "dd0d435f-cae0-4c4c-bf09-1f144ec0bcee"
      },
      "execution_count": 121,
      "outputs": [
        {
          "output_type": "stream",
          "name": "stdout",
          "text": [
            "313/313 [==============================] - 1s 1ms/step\n",
            "[[2.70784385e-05 9.02701049e-06 5.24682226e-04 ... 9.98013020e-01\n",
            "  2.32136481e-05 1.00693745e-04]\n",
            " [8.75855278e-07 9.15804529e-04 9.98693228e-01 ... 6.23392850e-07\n",
            "  8.74101261e-07 8.19289012e-11]\n",
            " [2.28725439e-05 9.98144150e-01 5.01457020e-04 ... 7.60046765e-04\n",
            "  3.30592069e-04 2.13957719e-05]\n",
            " ...\n",
            " [3.09682002e-10 2.92889824e-09 1.04436082e-09 ... 1.63130807e-07\n",
            "  4.96427930e-08 5.30805619e-06]\n",
            " [1.09763576e-09 4.30080016e-09 2.83468943e-10 ... 1.08165576e-09\n",
            "  5.43209580e-06 1.42464895e-09]\n",
            " [1.29997844e-08 4.07427231e-10 7.09033832e-10 ... 1.57174729e-12\n",
            "  5.17531573e-10 7.87173243e-11]]\n",
            "[7 2 1 ... 4 5 6]\n"
          ]
        }
      ]
    },
    {
      "cell_type": "markdown",
      "source": [
        "# Predicting a Random Image:\n",
        "\n",
        "In this section, we will predict the label of a single, randomly selected image from the test set. This allows us to visually inspect how well the model performs on individual samples. We will randomly choose an image, predict its label using the trained model, and compare it with the true label. We will also display the image along with its predicted and true labels.\n",
        "\n",
        "### Code Cell:\n",
        "\n",
        "```python\n",
        "# Predicting a single random number\n",
        "# Select a random index from the test set.\n",
        "random_index = np.random.choice(len(X_test))\n",
        "\n",
        "# Get the corresponding image from the test set.\n",
        "random_image = X_test[random_index]\n",
        "\n",
        "# Get the true labels of all test images.\n",
        "# - np.argmax: This function returns the indices of the maximum values along an axis.\n",
        "# - axis=1: We want the indices of the maximum values along the second axis (each row).\n",
        "image_labels = np.argmax(y_test, axis=1) # y_true\n",
        "\n",
        "# Get the true label of the selected random image.\n",
        "random_image_label = image_labels[random_index]\n",
        "\n",
        "# Get the predicted label of the selected random image.\n",
        "predicted_image_label = y_pred_classes[random_index]\n",
        "\n",
        "# Print the shape of the selected random image to verify.\n",
        "print(f\"Shape of the random image: {random_image.shape}\")\n",
        "\n",
        "# Print the true labels of all test images.\n",
        "print(\"True labels of test images:\")\n",
        "print(image_labels)\n",
        "\n",
        "# Print the true label of the selected random image.\n",
        "print(f\"True label of the random image: {random_image_label}\")\n",
        "\n",
        "# Show the selected random image and its predicted and true labels.\n",
        "plt.imshow(random_image.reshape(28, 28), cmap='gray')\n",
        "plt.title(f\"True Label: {random_image_label}, Predicted Label: {predicted_image_label}\")\n",
        "plt.show()\n",
        "```\n",
        "\n",
        "### Explanation:\n",
        "\n",
        "1. **Select a random index from the test set**:\n",
        "    - `random_index = np.random.choice(len(X_test))`: This selects a random index from the range of the test set length.\n",
        "\n",
        "2. **Get the corresponding image from the test set**:\n",
        "    - `random_image = X_test[random_index]`: This retrieves the image at the randomly selected index from the test set.\n",
        "\n",
        "3. **Get the true labels of all test images**:\n",
        "    - `image_labels = np.argmax(y_test, axis=1)`: This converts the one-hot encoded test labels to their original class labels.\n",
        "\n",
        "4. **Get the true label of the selected random image**:\n",
        "    - `random_image_label = image_labels[random_index]`: This retrieves the true label of the randomly selected image.\n",
        "\n",
        "5. **Get the predicted label of the selected random image**:\n",
        "    - `predicted_image_label = y_pred_classes[random_index]`: This retrieves the predicted label of the randomly selected image from the predictions made by the model.\n",
        "\n",
        "6. **Print the shape of the selected random image**:\n",
        "    - `print(f\"Shape of the random image: {random_image.shape}\")`: This prints the shape of the selected random image to verify its dimensions.\n",
        "\n",
        "7. **Print the true labels of all test images**:\n",
        "    - `print(\"True labels of test images:\")`: This prints a header indicating that the following output is the true labels.\n",
        "    - `print(image_labels)`: This prints the true labels of all test images.\n",
        "\n",
        "8. **Print the true label of the selected random image**:\n",
        "    - `print(f\"True label of the random image: {random_image_label}\")`: This prints the true label of the selected random image.\n",
        "\n",
        "9. **Show the selected random image and its predicted and true labels**:\n",
        "    - `plt.imshow(random_image.reshape(28, 28), cmap='gray')`: This displays the selected random image in grayscale.\n",
        "    - `plt.title(f\"True Label: {random_image_label}, Predicted Label: {predicted_image_label}\")`: This sets the title of the plot to show the true and predicted labels.\n",
        "    - `plt.show()`: This displays the plot."
      ],
      "metadata": {
        "id": "G3MNSfk5G4Co"
      }
    },
    {
      "cell_type": "code",
      "source": [
        "# Pridicting a single random number\n",
        "random_index = np.random.choice(len(X_test))\n",
        "random_image = X_test[random_index]\n",
        "image_labels = np.argmax(y_test, axis=1) # y_true\n",
        "\n",
        "random_image_label = image_labels[random_index]\n",
        "predicted_image_label = y_pred_classes[random_index]\n",
        "\n",
        "print(random_image.shape)\n",
        "print(image_labels)\n",
        "print(random_image_label)\n",
        "\n",
        "# show the predicted image and the label + the true label\n",
        "plt.imshow(random_image.reshape(28, 28), cmap='gray')\n",
        "plt.title(f\"True Label: {random_image_label}, Predicted Label: {predicted_image_label}\")\n",
        "plt.imshow(random_image.reshape(28, 28), cmap='gray')\n"
      ],
      "metadata": {
        "colab": {
          "base_uri": "https://localhost:8080/",
          "height": 524
        },
        "id": "T4PQsloaLAmY",
        "outputId": "ac5d4228-d162-40b8-f553-91c8f33257bf"
      },
      "execution_count": 122,
      "outputs": [
        {
          "output_type": "stream",
          "name": "stdout",
          "text": [
            "(784,)\n",
            "[7 2 1 ... 4 5 6]\n",
            "1\n"
          ]
        },
        {
          "output_type": "execute_result",
          "data": {
            "text/plain": [
              "<matplotlib.image.AxesImage at 0x7982588f9c30>"
            ]
          },
          "metadata": {},
          "execution_count": 122
        },
        {
          "output_type": "display_data",
          "data": {
            "text/plain": [
              "<Figure size 640x480 with 1 Axes>"
            ],
            "image/png": "[encoded data removed]"
          },
          "metadata": {}
        }
      ]
    },
    {
      "cell_type": "markdown",
      "source": [
        "# Confusion Matrix\n",
        "\n",
        "In this section, we will introduce the concept of a confusion matrix and explain its importance in evaluating the performance of a classification model. A confusion matrix is a table used to describe the performance of a classification algorithm. It allows us to see how many of the predictions were correct and how many were incorrect, broken down by each class. The matrix shows the true labels on one axis and the predicted labels on the other, providing a comprehensive view of how well the model is performing on each class.\n",
        "\n",
        "### Code Cell:\n",
        "\n",
        "```python\n",
        "# Import necessary libraries for plotting the confusion matrix.\n",
        "import seaborn as sns\n",
        "import matplotlib.pyplot as plt\n",
        "from sklearn.metrics import confusion_matrix\n",
        "\n",
        "# Generate the confusion matrix.\n",
        "# - image_labels: The true labels of the test set.\n",
        "# - y_pred_classes: The predicted labels by the model.\n",
        "cm = confusion_matrix(image_labels, y_pred_classes)\n",
        "\n",
        "# Set up the plot for the confusion matrix.\n",
        "plt.figure(figsize=(9, 7))\n",
        "\n",
        "# Create a heatmap for the confusion matrix.\n",
        "# - cm: The confusion matrix.\n",
        "# - annot=True: Annotate each cell with the numeric value.\n",
        "# - fmt='d': Format the annotations as integers.\n",
        "# - cmap='Blues': Use a blue color map.\n",
        "axis = sns.heatmap(cm, annot=True, fmt='d', cmap='Blues')\n",
        "\n",
        "# Set the title and labels for the heatmap.\n",
        "axis.set_title('Confusion Matrix')\n",
        "axis.set_xlabel('Predicted Labels')\n",
        "axis.set_ylabel('True Labels')\n",
        "\n",
        "# Display the plot.\n",
        "plt.show()\n",
        "```\n",
        "\n",
        "### Explanation:\n",
        "\n",
        "1. **Import necessary libraries**:\n",
        "    - `import seaborn as sns`: Seaborn is a data visualization library that makes it easy to create informative and attractive statistical graphics.\n",
        "    - `import matplotlib.pyplot as plt`: Matplotlib is a plotting library used to create static, interactive, and animated visualizations in Python.\n",
        "    - `from sklearn.metrics import confusion_matrix`: The confusion_matrix function from scikit-learn is used to compute the confusion matrix.\n",
        "\n",
        "2. **Generate the confusion matrix**:\n",
        "    - `cm = confusion_matrix(image_labels, y_pred_classes)`: This line generates the confusion matrix using the true labels (`image_labels`) and the predicted labels (`y_pred_classes`).\n",
        "\n",
        "3. **Set up the plot for the confusion matrix**:\n",
        "    - `plt.figure(figsize=(9, 7))`: This sets the size of the plot to 9 inches by 7 inches.\n",
        "\n",
        "4. **Create a heatmap for the confusion matrix**:\n",
        "    - `axis = sns.heatmap(cm, annot=True, fmt='d', cmap='Blues')`: This line creates a heatmap of the confusion matrix.\n",
        "        - `cm`: The confusion matrix.\n",
        "        - `annot=True`: Annotate each cell with the numeric value.\n",
        "        - `fmt='d'`: Format the annotations as integers.\n",
        "        - `cmap='Blues'`: Use a blue color map for the heatmap.\n",
        "\n",
        "5. **Set the title and labels for the heatmap**:\n",
        "    - `axis.set_title('Confusion Matrix')`: This sets the title of the heatmap.\n",
        "    - `axis.set_xlabel('Predicted Labels')`: This sets the label for the x-axis to \"Predicted Labels\".\n",
        "    - `axis.set_ylabel('True Labels')`: This sets the label for the y-axis to \"True Labels\".\n",
        "\n",
        "6. **Display the plot**:\n",
        "    - `plt.show()`: This displays the heatmap.\n",
        "\n",
        "### What is a Confusion Matrix?\n",
        "\n",
        "A confusion matrix is a summary of prediction results on a classification problem. The number of correct and incorrect predictions are summarized with count values and broken down by each class. This is essential for understanding the types of errors the model is making.\n",
        "\n",
        "- **True Positives (TP)**: The model correctly predicted the positive class.\n",
        "- **True Negatives (TN)**: The model correctly predicted the negative class.\n",
        "- **False Positives (FP)**: The model incorrectly predicted the positive class (Type I error).\n",
        "- **False Negatives (FN)**: The model incorrectly predicted the negative class (Type II error).\n",
        "\n",
        "### Why Do We Need a Confusion Matrix?\n",
        "\n",
        "A confusion matrix provides more detailed information than simple accuracy metrics. It allows us to:\n",
        "\n",
        "- Understand how well the model is performing for each class.\n",
        "- Identify specific classes where the model may be underperforming.\n",
        "- Get insights into the types of errors the model is making, which can guide further improvements and tuning of the model."
      ],
      "metadata": {
        "id": "YEIHja19ehHc"
      }
    },
    {
      "cell_type": "code",
      "source": [
        "# showing a comfusion matrix\n",
        "cm = confusion_matrix(image_labels, y_pred_classes)\n",
        "plt.figure(figsize=(9, 7))\n",
        "axis = sns.heatmap(cm, annot=True, fmt='d', cmap='Blues')\n",
        "axis.set_title('Confusion Matrix')\n",
        "axis.set_xlabel('Predicted Labels')\n",
        "axis.set_ylabel('True Labels')\n",
        "plt.show()"
      ],
      "metadata": {
        "colab": {
          "base_uri": "https://localhost:8080/",
          "height": 641
        },
        "id": "9FTtWAnSNW3u",
        "outputId": "446c4abc-357f-473a-9b4f-eaea4f3c7565"
      },
      "execution_count": 123,
      "outputs": [
        {
          "output_type": "display_data",
          "data": {
            "text/plain": [
              "<Figure size 900x700 with 2 Axes>"
            ],
            "image/png": "[encoded data removed]"
          },
          "metadata": {}
        }
      ]
    },
    {
      "cell_type": "markdown",
      "source": [],
      "metadata": {
        "id": "x_Oz6fE4xPpu"
      }
    },
    {
      "cell_type": "markdown",
      "source": [
        "# Finding some errors\n",
        "In this section, we will identify and analyze the errors made by our model. Understanding these errors helps us improve the model by focusing on the cases where it struggles. We'll find the incorrect predictions and analyze the predictions where the model was least certain. Finally, we will visualize the top errors to better understand the types of mistakes the model is making.\n",
        "\n",
        "### Code Cell:\n",
        "\n",
        "```python\n",
        "# Finding Errors in The Model:\n",
        "\n",
        "# Find the indices where the predicted classes are not the same as the true labels.\n",
        "# - y_pred_classes: The predicted class labels.\n",
        "# - image_labels: The true class labels.\n",
        "errors = (y_pred_classes - image_labels != 0)\n",
        "\n",
        "# Get the predicted class labels for the errors.\n",
        "y_pred_classes_errors = y_pred_classes[errors]\n",
        "\n",
        "# Get the predicted probabilities for the errors.\n",
        "y_pred_errors = y_pred[errors]\n",
        "\n",
        "# Get the true class labels for the errors.\n",
        "y_true_errors = image_labels[errors]\n",
        "\n",
        "# Get the test images corresponding to the errors.\n",
        "x_test_errors = X_test[errors]\n",
        "\n",
        "# Find the maximum predicted probability for each error.\n",
        "y_pred_errors_probability = np.max(y_pred_errors, axis=1)\n",
        "\n",
        "# Find the true predicted probabilities for each error.\n",
        "true_probability_errors = np.diagonal(np.take(y_pred_errors, y_true_errors, axis=1))\n",
        "\n",
        "# Calculate the difference between the predicted and true probabilities.\n",
        "diff_probability_errors = y_pred_errors_probability - true_probability_errors\n",
        "\n",
        "# Get the indices of the sorted differences (ascending order).\n",
        "sorted_idx_diff_errors = np.argsort(diff_probability_errors)\n",
        "\n",
        "# Get the indices of the top 5 largest differences (most uncertain predictions).\n",
        "top_idx_diff_errors = sorted_idx_diff_errors[-5:]\n",
        "\n",
        "# Show the top 5 errors.\n",
        "num = len(top_idx_diff_errors)\n",
        "f, ax = plt.subplots(1, num, figsize=(12, 12))\n",
        "\n",
        "for i in range(num):\n",
        "    # Display the error images.\n",
        "    ax[i].imshow(x_test_errors[top_idx_diff_errors[i]].reshape(28, 28), cmap='gray')\n",
        "    # Set the title to show the predicted and true labels.\n",
        "    ax[i].set_title(f\"Predicted label: {y_pred_classes_errors[top_idx_diff_errors[i]]}, \\nTrue label: {y_true_errors[top_idx_diff_errors[i]]}\")\n",
        "    # Turn off the axis.\n",
        "    ax[i].axis('off')\n",
        "plt.show()\n",
        "```\n",
        "\n",
        "### Explanation:\n",
        "\n",
        "1. **Finding Errors**:\n",
        "    - `errors = (y_pred_classes - image_labels != 0)`: This creates a boolean array indicating where the predicted labels do not match the true labels.\n",
        "\n",
        "2. **Extracting Information About Errors**:\n",
        "    - `y_pred_classes_errors = y_pred_classes[errors]`: This extracts the predicted labels for the incorrect predictions.\n",
        "    - `y_pred_errors = y_pred[errors]`: This extracts the predicted probabilities for the incorrect predictions.\n",
        "    - `y_true_errors = image_labels[errors]`: This extracts the true labels for the incorrect predictions.\n",
        "    - `x_test_errors = X_test[errors]`: This extracts the test images corresponding to the incorrect predictions.\n",
        "\n",
        "3. **Analyzing Model Uncertainty**:\n",
        "    - `y_pred_errors_probability = np.max(y_pred_errors, axis=1)`: This finds the maximum predicted probability for each incorrect prediction.\n",
        "    - `true_probability_errors = np.diagonal(np.take(y_pred_errors, y_true_errors, axis=1))`: This finds the predicted probability for the true label for each incorrect prediction.\n",
        "    - `diff_probability_errors = y_pred_errors_probability - true_probability_errors`: This calculates the difference between the predicted probability for the predicted label and the true label.\n",
        "\n",
        "4. **Identifying Most Uncertain Predictions**:\n",
        "    - `sorted_idx_diff_errors = np.argsort(diff_probability_errors)`: This sorts the differences in ascending order and returns the indices.\n",
        "    - `top_idx_diff_errors = sorted_idx_diff_errors[-5:]`: This gets the indices of the top 5 largest differences (most uncertain predictions).\n",
        "\n",
        "5. **Visualizing Top Errors**:\n",
        "    - `num = len(top_idx_diff_errors)`: This sets the number of top errors to display.\n",
        "    - `f, ax = plt.subplots(1, num, figsize=(12, 12))`: This creates a subplot to display the top errors.\n",
        "    - In the loop, for each top error:\n",
        "        - `ax[i].imshow(x_test_errors[top_idx_diff_errors[i]].reshape(28, 28), cmap='gray')`: This displays the error image in grayscale.\n",
        "        - `ax[i].set_title(f\"Predicted label: {y_pred_classes_errors[top_idx_diff_errors[i]]}, \\nTrue label: {y_true_errors[top_idx_diff_errors[i]]}\")`: This sets the title to show the predicted and true labels.\n",
        "        - `ax[i].axis('off')`: This turns off the axis.\n",
        "\n",
        "### What is a Confusion Matrix?\n",
        "\n",
        "A confusion matrix is a summary of prediction results on a classification problem. The number of correct and incorrect predictions are summarized with count values and broken down by each class. This is essential for understanding the types of errors the model is making.\n",
        "\n",
        "- **True Positives (TP)**: The model correctly predicted the positive class.\n",
        "- **True Negatives (TN)**: The model correctly predicted the negative class.\n",
        "- **False Positives (FP)**: The model incorrectly predicted the positive class (Type I error).\n",
        "- **False Negatives (FN)**: The model incorrectly predicted the negative class (Type II error).\n",
        "\n",
        "### Why Do We Need a Confusion Matrix?\n",
        "\n",
        "A confusion matrix provides more detailed information than simple accuracy metrics. It allows us to:\n",
        "\n",
        "- Understand how well the model is performing for each class.\n",
        "- Identify specific classes where the model may be underperforming.\n",
        "- Get insights into the types of errors the model is making, which can guide further improvements and tuning of the model.\n",
        "\n"
      ],
      "metadata": {
        "id": "qCPYNAfezLBP"
      }
    },
    {
      "cell_type": "code",
      "source": [
        "# finding the values where the predicted classes are not the same as the values in the image labels\n",
        "errors = (y_pred_classes - image_labels != 0)\n",
        "y_pred_classes_errors = y_pred_classes[errors]\n",
        "y_pred_errors = y_pred[errors]\n",
        "y_true_errors = image_labels[errors]\n",
        "x_test_errors = X_test[errors]\n"
      ],
      "metadata": {
        "id": "IunFM2KshGU4"
      },
      "execution_count": 124,
      "outputs": []
    },
    {
      "cell_type": "code",
      "source": [
        "# find the errors with the maximum probability, the valus where the algorithm is least certain of their prediction\n",
        "y_pred_errors_probability = np.max(y_pred_errors, axis=1)\n",
        "true_probability_errors = np.diagonal(np.take(y_pred_errors, y_true_errors, axis=1))\n",
        "diff_probability_errors = y_pred_errors_probability - true_probability_errors\n",
        "\n",
        "# Get list of indices of sorted differences\n",
        "sorted_idx_diff_errors = np.argsort(diff_probability_errors)\n",
        "top_idx_diff_errors = sorted_idx_diff_errors[-5:] # shows 5 last ones"
      ],
      "metadata": {
        "id": "iywBplNtze_M"
      },
      "execution_count": 125,
      "outputs": []
    },
    {
      "cell_type": "code",
      "source": [
        "# Show top Errors\n",
        "num = len(top_idx_diff_errors)\n",
        "f, ax = plt.subplots(1, num, figsize=(12, 12))\n",
        "\n",
        "for i in range(0, num):\n",
        "  ax[i].imshow(x_test_errors[top_idx_diff_errors[i]].reshape(28, 28), cmap='gray')\n",
        "  ax[i].set_title(f\"Predicted label: {y_pred_classes_errors[top_idx_diff_errors[i]]}, \\nTrue label: {y_true_errors[top_idx_diff_errors[i]]}\")\n",
        "  ax[i].axis('off')"
      ],
      "metadata": {
        "colab": {
          "base_uri": "https://localhost:8080/",
          "height": 240
        },
        "id": "IsZNR1kjAtZe",
        "outputId": "80899805-504b-4076-f99b-025fa14cb91a"
      },
      "execution_count": 126,
      "outputs": [
        {
          "output_type": "display_data",
          "data": {
            "text/plain": [
              "<Figure size 1200x1200 with 5 Axes>"
            ],
            "image/png": "[encoded data removed]"
          },
          "metadata": {}
        }
      ]
    },
    {
      "cell_type": "code",
      "source": [],
      "metadata": {
        "id": "qFSRaAq3B1zb"
      },
      "execution_count": 126,
      "outputs": []
    }
  ]
}