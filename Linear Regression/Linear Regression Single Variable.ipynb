{
 "cells": [
  {
   "cell_type": "code",
   "execution_count": 38,
   "id": "170c637a-9fc6-48f0-9456-0cd58cde4e97",
   "metadata": {},
   "outputs": [],
   "source": [
    "# linear_model for linear regression\n",
    "from sklearn.linear_model import LinearRegression\n",
    "import matplotlib.pyplot as plt\n",
    "import pandas as pd\n",
    "import numpy as np"
   ]
  },
  {
   "cell_type": "code",
   "execution_count": 2,
   "id": "d22c2382-3254-4c62-a644-c2b04a0316fe",
   "metadata": {},
   "outputs": [],
   "source": [
    "# use scikit learn to generate 30 dummy data for house prediction\n",
    "from sklearn.datasets import make_regression"
   ]
  },
  {
   "cell_type": "code",
   "execution_count": 3,
   "id": "4ec35256-e546-4b96-9fd0-14639da7f487",
   "metadata": {},
   "outputs": [],
   "source": [
    "np.random.seed(0)"
   ]
  },
  {
   "cell_type": "code",
   "execution_count": 34,
   "id": "0c306b29-1912-4527-bd64-2b98a3c93f71",
   "metadata": {},
   "outputs": [],
   "source": [
    "# Generate data\n",
    "np.random.seed(0)\n",
    "area = np.random.randint(500, 3000, 30)  # Random area values between 500 and 3000\n",
    "price = area * 150 + np.random.randn(30) * 10000  # Price is proportional to area with some noise\n"
   ]
  },
  {
   "cell_type": "code",
   "execution_count": 35,
   "id": "7a293b29-1895-4b1e-b311-23e511053584",
   "metadata": {},
   "outputs": [],
   "source": [
    "# Create a DataFrame with columns 'Area' and 'Price'\n",
    "df = pd.DataFrame({'Area': area, 'Price': price})"
   ]
  },
  {
   "cell_type": "code",
   "execution_count": 36,
   "id": "be16546a-381d-4f65-b752-e845395b7ac3",
   "metadata": {},
   "outputs": [
    {
     "data": {
      "text/html": [
       "<div>\n",
       "<style scoped>\n",
       "    .dataframe tbody tr th:only-of-type {\n",
       "        vertical-align: middle;\n",
       "    }\n",
       "\n",
       "    .dataframe tbody tr th {\n",
       "        vertical-align: top;\n",
       "    }\n",
       "\n",
       "    .dataframe thead th {\n",
       "        text-align: right;\n",
       "    }\n",
       "</style>\n",
       "<table border=\"1\" class=\"dataframe\">\n",
       "  <thead>\n",
       "    <tr style=\"text-align: right;\">\n",
       "      <th></th>\n",
       "      <th>Area</th>\n",
       "      <th>Price</th>\n",
       "    </tr>\n",
       "  </thead>\n",
       "  <tbody>\n",
       "    <tr>\n",
       "      <th>0</th>\n",
       "      <td>2153</td>\n",
       "      <td>297420.101842</td>\n",
       "    </tr>\n",
       "    <tr>\n",
       "      <th>1</th>\n",
       "      <td>1335</td>\n",
       "      <td>206786.185954</td>\n",
       "    </tr>\n",
       "    <tr>\n",
       "      <th>2</th>\n",
       "      <td>1263</td>\n",
       "      <td>198094.361989</td>\n",
       "    </tr>\n",
       "    <tr>\n",
       "      <th>3</th>\n",
       "      <td>2231</td>\n",
       "      <td>327228.349796</td>\n",
       "    </tr>\n",
       "    <tr>\n",
       "      <th>4</th>\n",
       "      <td>1533</td>\n",
       "      <td>252647.546240</td>\n",
       "    </tr>\n",
       "  </tbody>\n",
       "</table>\n",
       "</div>"
      ],
      "text/plain": [
       "   Area          Price\n",
       "0  2153  297420.101842\n",
       "1  1335  206786.185954\n",
       "2  1263  198094.361989\n",
       "3  2231  327228.349796\n",
       "4  1533  252647.546240"
      ]
     },
     "execution_count": 36,
     "metadata": {},
     "output_type": "execute_result"
    }
   ],
   "source": [
    "df.head()"
   ]
  },
  {
   "cell_type": "code",
   "execution_count": 33,
   "id": "10bf7dad-257a-492b-93c8-4764191bc70c",
   "metadata": {},
   "outputs": [
    {
     "data": {
      "text/html": [
       "<div>\n",
       "<style scoped>\n",
       "    .dataframe tbody tr th:only-of-type {\n",
       "        vertical-align: middle;\n",
       "    }\n",
       "\n",
       "    .dataframe tbody tr th {\n",
       "        vertical-align: top;\n",
       "    }\n",
       "\n",
       "    .dataframe thead th {\n",
       "        text-align: right;\n",
       "    }\n",
       "</style>\n",
       "<table border=\"1\" class=\"dataframe\">\n",
       "  <thead>\n",
       "    <tr style=\"text-align: right;\">\n",
       "      <th></th>\n",
       "      <th>Area</th>\n",
       "      <th>Price</th>\n",
       "    </tr>\n",
       "  </thead>\n",
       "  <tbody>\n",
       "    <tr>\n",
       "      <th>0</th>\n",
       "      <td>2153</td>\n",
       "      <td>324637</td>\n",
       "    </tr>\n",
       "    <tr>\n",
       "      <th>1</th>\n",
       "      <td>1335</td>\n",
       "      <td>195964</td>\n",
       "    </tr>\n",
       "    <tr>\n",
       "      <th>2</th>\n",
       "      <td>1263</td>\n",
       "      <td>186742</td>\n",
       "    </tr>\n",
       "    <tr>\n",
       "      <th>3</th>\n",
       "      <td>2231</td>\n",
       "      <td>337993</td>\n",
       "    </tr>\n",
       "    <tr>\n",
       "      <th>4</th>\n",
       "      <td>1533</td>\n",
       "      <td>226157</td>\n",
       "    </tr>\n",
       "  </tbody>\n",
       "</table>\n",
       "</div>"
      ],
      "text/plain": [
       "   Area   Price\n",
       "0  2153  324637\n",
       "1  1335  195964\n",
       "2  1263  186742\n",
       "3  2231  337993\n",
       "4  1533  226157"
      ]
     },
     "execution_count": 33,
     "metadata": {},
     "output_type": "execute_result"
    }
   ],
   "source": []
  },
  {
   "cell_type": "code",
   "execution_count": 37,
   "id": "42cb1cd9-5b6e-482e-937a-1c689452ea4b",
   "metadata": {},
   "outputs": [
    {
     "data": {
      "text/plain": [
       "<matplotlib.collections.PathCollection at 0x276968a5750>"
      ]
     },
     "execution_count": 37,
     "metadata": {},
     "output_type": "execute_result"
    },
    {
     "data": {
      "image/png": "[encoded data removed]",
      "text/plain": [
       "<Figure size 640x480 with 1 Axes>"
      ]
     },
     "metadata": {},
     "output_type": "display_data"
    }
   ],
   "source": [
    "%matplotlib inline\n",
    "plt.xlabel('Area')\n",
    "plt.ylabel('Price(N)')\n",
    "plt.title(\"House Area vs. Price\")\n",
    "plt.scatter(df.Area, df.Price, color='red', marker='+')\n"
   ]
  },
  {
   "cell_type": "code",
   "execution_count": 39,
   "id": "af14536f-416a-4b1d-a6bc-acecff8f98f2",
   "metadata": {},
   "outputs": [],
   "source": [
    "model = LinearRegression()"
   ]
  },
  {
   "cell_type": "code",
   "execution_count": 41,
   "id": "b83da346-76bb-4f9f-80ed-9aa51ee72a27",
   "metadata": {},
   "outputs": [
    {
     "data": {
      "text/html": [
       "<style>#sk-container-id-1 {color: black;}#sk-container-id-1 pre{padding: 0;}#sk-container-id-1 div.sk-toggleable {background-color: white;}#sk-container-id-1 label.sk-toggleable__label {cursor: pointer;display: block;width: 100%;margin-bottom: 0;padding: 0.3em;box-sizing: border-box;text-align: center;}#sk-container-id-1 label.sk-toggleable__label-arrow:before {content: \"▸\";float: left;margin-right: 0.25em;color: #696969;}#sk-container-id-1 label.sk-toggleable__label-arrow:hover:before {color: black;}#sk-container-id-1 div.sk-estimator:hover label.sk-toggleable__label-arrow:before {color: black;}#sk-container-id-1 div.sk-toggleable__content {max-height: 0;max-width: 0;overflow: hidden;text-align: left;background-color: #f0f8ff;}#sk-container-id-1 div.sk-toggleable__content pre {margin: 0.2em;color: black;border-radius: 0.25em;background-color: #f0f8ff;}#sk-container-id-1 input.sk-toggleable__control:checked~div.sk-toggleable__content {max-height: 200px;max-width: 100%;overflow: auto;}#sk-container-id-1 input.sk-toggleable__control:checked~label.sk-toggleable__label-arrow:before {content: \"▾\";}#sk-container-id-1 div.sk-estimator input.sk-toggleable__control:checked~label.sk-toggleable__label {background-color: #d4ebff;}#sk-container-id-1 div.sk-label input.sk-toggleable__control:checked~label.sk-toggleable__label {background-color: #d4ebff;}#sk-container-id-1 input.sk-hidden--visually {border: 0;clip: rect(1px 1px 1px 1px);clip: rect(1px, 1px, 1px, 1px);height: 1px;margin: -1px;overflow: hidden;padding: 0;position: absolute;width: 1px;}#sk-container-id-1 div.sk-estimator {font-family: monospace;background-color: #f0f8ff;border: 1px dotted black;border-radius: 0.25em;box-sizing: border-box;margin-bottom: 0.5em;}#sk-container-id-1 div.sk-estimator:hover {background-color: #d4ebff;}#sk-container-id-1 div.sk-parallel-item::after {content: \"\";width: 100%;border-bottom: 1px solid gray;flex-grow: 1;}#sk-container-id-1 div.sk-label:hover label.sk-toggleable__label {background-color: #d4ebff;}#sk-container-id-1 div.sk-serial::before {content: \"\";position: absolute;border-left: 1px solid gray;box-sizing: border-box;top: 0;bottom: 0;left: 50%;z-index: 0;}#sk-container-id-1 div.sk-serial {display: flex;flex-direction: column;align-items: center;background-color: white;padding-right: 0.2em;padding-left: 0.2em;position: relative;}#sk-container-id-1 div.sk-item {position: relative;z-index: 1;}#sk-container-id-1 div.sk-parallel {display: flex;align-items: stretch;justify-content: center;background-color: white;position: relative;}#sk-container-id-1 div.sk-item::before, #sk-container-id-1 div.sk-parallel-item::before {content: \"\";position: absolute;border-left: 1px solid gray;box-sizing: border-box;top: 0;bottom: 0;left: 50%;z-index: -1;}#sk-container-id-1 div.sk-parallel-item {display: flex;flex-direction: column;z-index: 1;position: relative;background-color: white;}#sk-container-id-1 div.sk-parallel-item:first-child::after {align-self: flex-end;width: 50%;}#sk-container-id-1 div.sk-parallel-item:last-child::after {align-self: flex-start;width: 50%;}#sk-container-id-1 div.sk-parallel-item:only-child::after {width: 0;}#sk-container-id-1 div.sk-dashed-wrapped {border: 1px dashed gray;margin: 0 0.4em 0.5em 0.4em;box-sizing: border-box;padding-bottom: 0.4em;background-color: white;}#sk-container-id-1 div.sk-label label {font-family: monospace;font-weight: bold;display: inline-block;line-height: 1.2em;}#sk-container-id-1 div.sk-label-container {text-align: center;}#sk-container-id-1 div.sk-container {/* jupyter's `normalize.less` sets `[hidden] { display: none; }` but bootstrap.min.css set `[hidden] { display: none !important; }` so we also need the `!important` here to be able to override the default hidden behavior on the sphinx rendered scikit-learn.org. See: https://github.com/scikit-learn/scikit-learn/issues/21755 */display: inline-block !important;position: relative;}#sk-container-id-1 div.sk-text-repr-fallback {display: none;}</style><div id=\"sk-container-id-1\" class=\"sk-top-container\"><div class=\"sk-text-repr-fallback\"><pre>LinearRegression()</pre><b>In a Jupyter environment, please rerun this cell to show the HTML representation or trust the notebook. <br />On GitHub, the HTML representation is unable to render, please try loading this page with nbviewer.org.</b></div><div class=\"sk-container\" hidden><div class=\"sk-item\"><div class=\"sk-estimator sk-toggleable\"><input class=\"sk-toggleable__control sk-hidden--visually\" id=\"sk-estimator-id-1\" type=\"checkbox\" checked><label for=\"sk-estimator-id-1\" class=\"sk-toggleable__label sk-toggleable__label-arrow\">LinearRegression</label><div class=\"sk-toggleable__content\"><pre>LinearRegression()</pre></div></div></div></div></div>"
      ],
      "text/plain": [
       "LinearRegression()"
      ]
     },
     "execution_count": 41,
     "metadata": {},
     "output_type": "execute_result"
    }
   ],
   "source": [
    "# train the linear regression model\n",
    "model.fit(df[['Area']], df.Price)"
   ]
  },
  {
   "cell_type": "code",
   "execution_count": 52,
   "id": "c08e68d9-a758-420f-881f-73a251afc581",
   "metadata": {
    "scrolled": true
   },
   "outputs": [],
   "source": [
    "new_data = pd.DataFrame({'Area': [800]})"
   ]
  },
  {
   "cell_type": "code",
   "execution_count": 53,
   "id": "b5e9e527-e5d1-4525-9fe1-0f3396fd4280",
   "metadata": {},
   "outputs": [],
   "source": [
    "predicted_price = model.predict(new_data)"
   ]
  },
  {
   "cell_type": "code",
   "execution_count": 54,
   "id": "eeca9c97-94e5-4198-8cf1-e0ac777d5ff0",
   "metadata": {},
   "outputs": [
    {
     "name": "stdout",
     "output_type": "stream",
     "text": [
      "[115358.33081428]\n"
     ]
    }
   ],
   "source": [
    "print(predicted_price)"
   ]
  },
  {
   "cell_type": "markdown",
   "id": "6e17a3c5-c770-4a79-aa9b-5198bc923c78",
   "metadata": {},
   "source": [
    "## How did our model predicted the new Area's price?\n",
    "the model is able to predict new prices using the coefficients and intercept it learned during the training phase. Here's a simplified explanation of how it works:\n",
    "\n",
    "1. **Training Phase**: When you train a linear regression model, it learns the relationship between the input features (in this case, the 'Area' of houses) and the target variable (the 'Price' of houses). It does this by finding the best-fitting line that minimizes the error between its predictions and the actual prices in the training data. This line is defined by two parameters:\n",
    "   - **Coefficient (Slope)**: This represents how much the predicted price changes for a unit change in the 'Area'. In other words, it quantifies the impact of the 'Area' on the price.\n",
    "   - **Intercept (Bias)**: This is the predicted price when the 'Area' is zero. It accounts for the baseline price that a house might have even if its 'Area' is zero (which doesn't make sense for houses, but it's a necessary component of the linear equation).\n",
    "\n",
    "2. **Prediction Phase**: When you want to make predictions on new data (e.g., a house with an 'Area' of 100), the model uses the learned coefficients and intercept to calculate the predicted price. It does this by simply plugging the new 'Area' value into the linear equation it learned during training:\n",
    "   - Predicted Price = (Coefficient * Area) + Intercept\n",
    "\n",
    "The model uses the coefficient to scale the 'Area' value and then adds the intercept to get the predicted price. So, in this case, it's using the coefficients and intercept to make predictions for new prices.\n",
    "\n",
    "The model's ability to generalize from the training data to make predictions on new, unseen data is the essence of its predictive power. It assumes that the relationship it learned during training between 'Area' and 'Price' holds true for new houses as well, which is why it can provide predictions for them.\n",
    "\n",
    "now lets prove that y = mx + b\n",
    "- y: the price you want \n",
    "- m: the slope aka coefficient\n",
    "- x: the predictor variable (Area)\n",
    "- b: intercept ( value of y when x = 0)"
   ]
  },
  {
   "cell_type": "code",
   "execution_count": 60,
   "id": "a498b3ea-7b4f-4271-bdfe-792b5dfc4cbb",
   "metadata": {},
   "outputs": [],
   "source": [
    "m = model.coef_"
   ]
  },
  {
   "cell_type": "code",
   "execution_count": 61,
   "id": "3cbce2f6-7ec6-42a5-8696-f4e21085d4be",
   "metadata": {},
   "outputs": [],
   "source": [
    "b = model.intercept_"
   ]
  },
  {
   "cell_type": "code",
   "execution_count": 62,
   "id": "52f0c4d4-aa09-4602-9380-fc75045ef4c5",
   "metadata": {},
   "outputs": [],
   "source": [
    "x = 800"
   ]
  },
  {
   "cell_type": "code",
   "execution_count": 63,
   "id": "08f66d4e-1302-495e-b917-53d7a68f918f",
   "metadata": {},
   "outputs": [
    {
     "name": "stdout",
     "output_type": "stream",
     "text": [
      "[115358.33081428]\n"
     ]
    }
   ],
   "source": [
    "y = m * x + b\n",
    "print(y)"
   ]
  },
  {
   "cell_type": "code",
   "execution_count": 68,
   "id": "e4746862-5e87-4313-a6bc-38b290c309c7",
   "metadata": {},
   "outputs": [
    {
     "data": {
      "text/html": [
       "<div>\n",
       "<style scoped>\n",
       "    .dataframe tbody tr th:only-of-type {\n",
       "        vertical-align: middle;\n",
       "    }\n",
       "\n",
       "    .dataframe tbody tr th {\n",
       "        vertical-align: top;\n",
       "    }\n",
       "\n",
       "    .dataframe thead th {\n",
       "        text-align: right;\n",
       "    }\n",
       "</style>\n",
       "<table border=\"1\" class=\"dataframe\">\n",
       "  <thead>\n",
       "    <tr style=\"text-align: right;\">\n",
       "      <th></th>\n",
       "      <th>Area</th>\n",
       "    </tr>\n",
       "  </thead>\n",
       "  <tbody>\n",
       "    <tr>\n",
       "      <th>0</th>\n",
       "      <td>300</td>\n",
       "    </tr>\n",
       "    <tr>\n",
       "      <th>1</th>\n",
       "      <td>800</td>\n",
       "    </tr>\n",
       "    <tr>\n",
       "      <th>2</th>\n",
       "      <td>1200</td>\n",
       "    </tr>\n",
       "    <tr>\n",
       "      <th>3</th>\n",
       "      <td>4200</td>\n",
       "    </tr>\n",
       "    <tr>\n",
       "      <th>4</th>\n",
       "      <td>500</td>\n",
       "    </tr>\n",
       "  </tbody>\n",
       "</table>\n",
       "</div>"
      ],
      "text/plain": [
       "   Area\n",
       "0   300\n",
       "1   800\n",
       "2  1200\n",
       "3  4200\n",
       "4   500"
      ]
     },
     "execution_count": 68,
     "metadata": {},
     "output_type": "execute_result"
    }
   ],
   "source": [
    "# predict prices for multiple house area\n",
    "data = pd.read_csv('area.csv')\n",
    "data.head()"
   ]
  },
  {
   "cell_type": "code",
   "execution_count": 70,
   "id": "7a41aec2-1ff5-496e-8e31-b60d7656e689",
   "metadata": {},
   "outputs": [],
   "source": [
    "predicted_prices = model.predict(data)"
   ]
  },
  {
   "cell_type": "code",
   "execution_count": 73,
   "id": "7e7bfb81-b6e4-4f77-a2d3-bc238ca3fb9a",
   "metadata": {},
   "outputs": [],
   "source": [
    "data['Prices'] = predicted_prices"
   ]
  },
  {
   "cell_type": "code",
   "execution_count": 77,
   "id": "e58f39eb-c2e3-4c8e-8797-69aef61546b4",
   "metadata": {},
   "outputs": [
    {
     "data": {
      "text/html": [
       "<div>\n",
       "<style scoped>\n",
       "    .dataframe tbody tr th:only-of-type {\n",
       "        vertical-align: middle;\n",
       "    }\n",
       "\n",
       "    .dataframe tbody tr th {\n",
       "        vertical-align: top;\n",
       "    }\n",
       "\n",
       "    .dataframe thead th {\n",
       "        text-align: right;\n",
       "    }\n",
       "</style>\n",
       "<table border=\"1\" class=\"dataframe\">\n",
       "  <thead>\n",
       "    <tr style=\"text-align: right;\">\n",
       "      <th></th>\n",
       "      <th>Area</th>\n",
       "      <th>Prices</th>\n",
       "    </tr>\n",
       "  </thead>\n",
       "  <tbody>\n",
       "    <tr>\n",
       "      <th>0</th>\n",
       "      <td>300</td>\n",
       "      <td>38807.930614</td>\n",
       "    </tr>\n",
       "    <tr>\n",
       "      <th>1</th>\n",
       "      <td>800</td>\n",
       "      <td>115358.330814</td>\n",
       "    </tr>\n",
       "    <tr>\n",
       "      <th>2</th>\n",
       "      <td>1200</td>\n",
       "      <td>176598.650974</td>\n",
       "    </tr>\n",
       "    <tr>\n",
       "      <th>3</th>\n",
       "      <td>4200</td>\n",
       "      <td>635901.052174</td>\n",
       "    </tr>\n",
       "    <tr>\n",
       "      <th>4</th>\n",
       "      <td>500</td>\n",
       "      <td>69428.090694</td>\n",
       "    </tr>\n",
       "  </tbody>\n",
       "</table>\n",
       "</div>"
      ],
      "text/plain": [
       "   Area         Prices\n",
       "0   300   38807.930614\n",
       "1   800  115358.330814\n",
       "2  1200  176598.650974\n",
       "3  4200  635901.052174\n",
       "4   500   69428.090694"
      ]
     },
     "execution_count": 77,
     "metadata": {},
     "output_type": "execute_result"
    }
   ],
   "source": [
    "data.drop('prices', axis=1, inplace=True)\n",
    "data.head()"
   ]
  },
  {
   "cell_type": "code",
   "execution_count": 78,
   "id": "c4c6e389-1dff-4dc2-91ac-35620edd5595",
   "metadata": {},
   "outputs": [],
   "source": [
    "data.to_csv('predictions.csv', index=False)"
   ]
  },
  {
   "cell_type": "code",
   "execution_count": 85,
   "id": "6fa42add-ba65-4f7b-8fc6-03f49007c82a",
   "metadata": {},
   "outputs": [
    {
     "data": {
      "text/plain": [
       "[<matplotlib.lines.Line2D at 0x27698dab990>]"
      ]
     },
     "execution_count": 85,
     "metadata": {},
     "output_type": "execute_result"
    },
    {
     "data": {
      "image/png": "[encoded data removed]",
      "text/plain": [
       "<Figure size 640x480 with 1 Axes>"
      ]
     },
     "metadata": {},
     "output_type": "display_data"
    }
   ],
   "source": [
    "# show how our model is predicting in the plot\n",
    "%matplotlib inline\n",
    "plt.xlabel('Area')\n",
    "plt.ylabel('Price(N)')\n",
    "plt.title(\"House Area vs. Price\")\n",
    "plt.scatter(df.Area, df.Price, color='red', marker='+')\n",
    "plt.plot(df.Area, model.predict(df[['Area']]), color='blue')"
   ]
  },
  {
   "cell_type": "code",
   "execution_count": null,
   "id": "6a59b410-b267-4122-879f-44128da6b71f",
   "metadata": {},
   "outputs": [],
   "source": []
  }
 ],
 "metadata": {
  "kernelspec": {
   "display_name": "Python 3 (ipykernel)",
   "language": "python",
   "name": "python3"
  },
  "language_info": {
   "codemirror_mode": {
    "name": "ipython",
    "version": 3
   },
   "file_extension": ".py",
   "mimetype": "text/x-python",
   "name": "python",
   "nbconvert_exporter": "python",
   "pygments_lexer": "ipython3",
   "version": "3.11.4"
  }
 },
 "nbformat": 4,
 "nbformat_minor": 5
}
